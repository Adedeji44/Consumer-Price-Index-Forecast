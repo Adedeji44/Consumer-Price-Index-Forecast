{
 "cells": [
  {
   "cell_type": "markdown",
   "id": "340312e7",
   "metadata": {},
   "source": [
    "# **Forecasting Consumer Price Index**\n",
    "\n",
    "- The objective of this problem is to build a time series model that can forecast the consume price index (CPI) for the next 5 years."
   ]
  },
  {
   "cell_type": "code",
   "execution_count": 1,
   "id": "d5f7932c",
   "metadata": {},
   "outputs": [],
   "source": [
    "import pandas as pd\n",
    "\n",
    "import numpy as np\n",
    "\n",
    "import matplotlib.pyplot as plt\n",
    "\n",
    "%matplotlib inline\n",
    "\n",
    "import warnings\n",
    "warnings.filterwarnings(\"ignore\")"
   ]
  },
  {
   "cell_type": "code",
   "execution_count": 2,
   "id": "5e82d142",
   "metadata": {},
   "outputs": [
    {
     "data": {
      "text/html": [
       "<div>\n",
       "<style scoped>\n",
       "    .dataframe tbody tr th:only-of-type {\n",
       "        vertical-align: middle;\n",
       "    }\n",
       "\n",
       "    .dataframe tbody tr th {\n",
       "        vertical-align: top;\n",
       "    }\n",
       "\n",
       "    .dataframe thead th {\n",
       "        text-align: right;\n",
       "    }\n",
       "</style>\n",
       "<table border=\"1\" class=\"dataframe\">\n",
       "  <thead>\n",
       "    <tr style=\"text-align: right;\">\n",
       "      <th></th>\n",
       "      <th>date</th>\n",
       "      <th>PriceStats</th>\n",
       "      <th>CPI</th>\n",
       "    </tr>\n",
       "  </thead>\n",
       "  <tbody>\n",
       "    <tr>\n",
       "      <th>0</th>\n",
       "      <td>24-07-2008</td>\n",
       "      <td>100.00000</td>\n",
       "      <td>100.0</td>\n",
       "    </tr>\n",
       "    <tr>\n",
       "      <th>1</th>\n",
       "      <td>25-07-2008</td>\n",
       "      <td>99.99767</td>\n",
       "      <td>100.0</td>\n",
       "    </tr>\n",
       "    <tr>\n",
       "      <th>2</th>\n",
       "      <td>26-07-2008</td>\n",
       "      <td>99.92376</td>\n",
       "      <td>100.0</td>\n",
       "    </tr>\n",
       "    <tr>\n",
       "      <th>3</th>\n",
       "      <td>27-07-2008</td>\n",
       "      <td>99.91537</td>\n",
       "      <td>100.0</td>\n",
       "    </tr>\n",
       "    <tr>\n",
       "      <th>4</th>\n",
       "      <td>28-07-2008</td>\n",
       "      <td>99.89491</td>\n",
       "      <td>100.0</td>\n",
       "    </tr>\n",
       "  </tbody>\n",
       "</table>\n",
       "</div>"
      ],
      "text/plain": [
       "         date  PriceStats    CPI\n",
       "0  24-07-2008   100.00000  100.0\n",
       "1  25-07-2008    99.99767  100.0\n",
       "2  26-07-2008    99.92376  100.0\n",
       "3  27-07-2008    99.91537  100.0\n",
       "4  28-07-2008    99.89491  100.0"
      ]
     },
     "execution_count": 2,
     "metadata": {},
     "output_type": "execute_result"
    }
   ],
   "source": [
    "ps_cpi = pd.read_csv('Downloads/PriceStats_CPI.csv')\n",
    "\n",
    "ps_cpi.head()"
   ]
  },
  {
   "cell_type": "markdown",
   "id": "98f28625",
   "metadata": {},
   "source": [
    "**Observation:**\n",
    "\n",
    "- We can see that while PriceStats changes daily, the CPI only changes monthly. Hence, the monthly CPI can be obtained by taking the CPI of any day during a month."
   ]
  },
  {
   "cell_type": "code",
   "execution_count": 3,
   "id": "f2dbc0ac",
   "metadata": {
    "scrolled": true
   },
   "outputs": [
    {
     "data": {
      "text/html": [
       "<div>\n",
       "<style scoped>\n",
       "    .dataframe tbody tr th:only-of-type {\n",
       "        vertical-align: middle;\n",
       "    }\n",
       "\n",
       "    .dataframe tbody tr th {\n",
       "        vertical-align: top;\n",
       "    }\n",
       "\n",
       "    .dataframe thead th {\n",
       "        text-align: right;\n",
       "    }\n",
       "</style>\n",
       "<table border=\"1\" class=\"dataframe\">\n",
       "  <thead>\n",
       "    <tr style=\"text-align: right;\">\n",
       "      <th></th>\n",
       "      <th>date</th>\n",
       "      <th>PriceStats</th>\n",
       "      <th>CPI</th>\n",
       "    </tr>\n",
       "  </thead>\n",
       "  <tbody>\n",
       "    <tr>\n",
       "      <th>0</th>\n",
       "      <td>2008-07-24</td>\n",
       "      <td>100.00000</td>\n",
       "      <td>100.0</td>\n",
       "    </tr>\n",
       "    <tr>\n",
       "      <th>1</th>\n",
       "      <td>2008-07-25</td>\n",
       "      <td>99.99767</td>\n",
       "      <td>100.0</td>\n",
       "    </tr>\n",
       "    <tr>\n",
       "      <th>2</th>\n",
       "      <td>2008-07-26</td>\n",
       "      <td>99.92376</td>\n",
       "      <td>100.0</td>\n",
       "    </tr>\n",
       "    <tr>\n",
       "      <th>3</th>\n",
       "      <td>2008-07-27</td>\n",
       "      <td>99.91537</td>\n",
       "      <td>100.0</td>\n",
       "    </tr>\n",
       "    <tr>\n",
       "      <th>4</th>\n",
       "      <td>2008-07-28</td>\n",
       "      <td>99.89491</td>\n",
       "      <td>100.0</td>\n",
       "    </tr>\n",
       "  </tbody>\n",
       "</table>\n",
       "</div>"
      ],
      "text/plain": [
       "        date  PriceStats    CPI\n",
       "0 2008-07-24   100.00000  100.0\n",
       "1 2008-07-25    99.99767  100.0\n",
       "2 2008-07-26    99.92376  100.0\n",
       "3 2008-07-27    99.91537  100.0\n",
       "4 2008-07-28    99.89491  100.0"
      ]
     },
     "execution_count": 3,
     "metadata": {},
     "output_type": "execute_result"
    }
   ],
   "source": [
    "# Converting the date column into datetime format\n",
    "\n",
    "ps_cpi['date'] = pd.to_datetime(ps_cpi['date'], infer_datetime_format = True)\n",
    "\n",
    "ps_cpi.head()"
   ]
  },
  {
   "cell_type": "code",
   "execution_count": 4,
   "id": "2b3bdb8b",
   "metadata": {},
   "outputs": [
    {
     "data": {
      "text/plain": [
       "(3732, 3)"
      ]
     },
     "execution_count": 4,
     "metadata": {},
     "output_type": "execute_result"
    }
   ],
   "source": [
    "ps_cpi.shape"
   ]
  },
  {
   "cell_type": "code",
   "execution_count": 5,
   "id": "f8a83ab3",
   "metadata": {
    "scrolled": true
   },
   "outputs": [
    {
     "data": {
      "text/html": [
       "<div>\n",
       "<style scoped>\n",
       "    .dataframe tbody tr th:only-of-type {\n",
       "        vertical-align: middle;\n",
       "    }\n",
       "\n",
       "    .dataframe tbody tr th {\n",
       "        vertical-align: top;\n",
       "    }\n",
       "\n",
       "    .dataframe thead th {\n",
       "        text-align: right;\n",
       "    }\n",
       "</style>\n",
       "<table border=\"1\" class=\"dataframe\">\n",
       "  <thead>\n",
       "    <tr style=\"text-align: right;\">\n",
       "      <th></th>\n",
       "      <th>date</th>\n",
       "      <th>PriceStats</th>\n",
       "      <th>CPI</th>\n",
       "      <th>YearMonth</th>\n",
       "    </tr>\n",
       "  </thead>\n",
       "  <tbody>\n",
       "    <tr>\n",
       "      <th>0</th>\n",
       "      <td>2008-07-24</td>\n",
       "      <td>100.00000</td>\n",
       "      <td>100.0</td>\n",
       "      <td>2008 - 07</td>\n",
       "    </tr>\n",
       "    <tr>\n",
       "      <th>1</th>\n",
       "      <td>2008-07-25</td>\n",
       "      <td>99.99767</td>\n",
       "      <td>100.0</td>\n",
       "      <td>2008 - 07</td>\n",
       "    </tr>\n",
       "    <tr>\n",
       "      <th>2</th>\n",
       "      <td>2008-07-26</td>\n",
       "      <td>99.92376</td>\n",
       "      <td>100.0</td>\n",
       "      <td>2008 - 07</td>\n",
       "    </tr>\n",
       "    <tr>\n",
       "      <th>3</th>\n",
       "      <td>2008-07-27</td>\n",
       "      <td>99.91537</td>\n",
       "      <td>100.0</td>\n",
       "      <td>2008 - 07</td>\n",
       "    </tr>\n",
       "    <tr>\n",
       "      <th>4</th>\n",
       "      <td>2008-07-28</td>\n",
       "      <td>99.89491</td>\n",
       "      <td>100.0</td>\n",
       "      <td>2008 - 07</td>\n",
       "    </tr>\n",
       "  </tbody>\n",
       "</table>\n",
       "</div>"
      ],
      "text/plain": [
       "        date  PriceStats    CPI  YearMonth\n",
       "0 2008-07-24   100.00000  100.0  2008 - 07\n",
       "1 2008-07-25    99.99767  100.0  2008 - 07\n",
       "2 2008-07-26    99.92376  100.0  2008 - 07\n",
       "3 2008-07-27    99.91537  100.0  2008 - 07\n",
       "4 2008-07-28    99.89491  100.0  2008 - 07"
      ]
     },
     "execution_count": 5,
     "metadata": {},
     "output_type": "execute_result"
    }
   ],
   "source": [
    "# Since CPI data changes monthly, creating Dataframe cpi_monthly\n",
    "cpi_monthly = pd.DataFrame(columns = ['Month','CPI']) \n",
    "\n",
    "#Creating month column  \n",
    "ps_cpi['YearMonth'] = ps_cpi['date'].dt.strftime('%Y - %m')\n",
    "\n",
    "ps_cpi.head(5)"
   ]
  },
  {
   "cell_type": "code",
   "execution_count": 6,
   "id": "526fea89",
   "metadata": {},
   "outputs": [
    {
     "data": {
      "text/html": [
       "<div>\n",
       "<style scoped>\n",
       "    .dataframe tbody tr th:only-of-type {\n",
       "        vertical-align: middle;\n",
       "    }\n",
       "\n",
       "    .dataframe tbody tr th {\n",
       "        vertical-align: top;\n",
       "    }\n",
       "\n",
       "    .dataframe thead th {\n",
       "        text-align: right;\n",
       "    }\n",
       "</style>\n",
       "<table border=\"1\" class=\"dataframe\">\n",
       "  <thead>\n",
       "    <tr style=\"text-align: right;\">\n",
       "      <th></th>\n",
       "      <th>date</th>\n",
       "      <th>CPI</th>\n",
       "      <th>YearMonth</th>\n",
       "    </tr>\n",
       "  </thead>\n",
       "  <tbody>\n",
       "    <tr>\n",
       "      <th>0</th>\n",
       "      <td>2008-07-31</td>\n",
       "      <td>100.00000</td>\n",
       "      <td>2008 - 07</td>\n",
       "    </tr>\n",
       "    <tr>\n",
       "      <th>1</th>\n",
       "      <td>2008-08-31</td>\n",
       "      <td>100.52510</td>\n",
       "      <td>2008 - 08</td>\n",
       "    </tr>\n",
       "    <tr>\n",
       "      <th>2</th>\n",
       "      <td>2008-09-30</td>\n",
       "      <td>100.12380</td>\n",
       "      <td>2008 - 09</td>\n",
       "    </tr>\n",
       "    <tr>\n",
       "      <th>3</th>\n",
       "      <td>2008-10-31</td>\n",
       "      <td>99.98538</td>\n",
       "      <td>2008 - 10</td>\n",
       "    </tr>\n",
       "    <tr>\n",
       "      <th>4</th>\n",
       "      <td>2008-11-30</td>\n",
       "      <td>98.97539</td>\n",
       "      <td>2008 - 11</td>\n",
       "    </tr>\n",
       "  </tbody>\n",
       "</table>\n",
       "</div>"
      ],
      "text/plain": [
       "        date        CPI  YearMonth\n",
       "0 2008-07-31  100.00000  2008 - 07\n",
       "1 2008-08-31  100.52510  2008 - 08\n",
       "2 2008-09-30  100.12380  2008 - 09\n",
       "3 2008-10-31   99.98538  2008 - 10\n",
       "4 2008-11-30   98.97539  2008 - 11"
      ]
     },
     "execution_count": 6,
     "metadata": {},
     "output_type": "execute_result"
    }
   ],
   "source": [
    "# Pulling data for cpi monthly values\n",
    "\n",
    "cpi = ps_cpi.drop_duplicates('YearMonth', keep = 'last').copy().reset_index().drop(['index','PriceStats'], axis = 1) \n",
    "\n",
    "cpi.head(5)"
   ]
  },
  {
   "cell_type": "code",
   "execution_count": 7,
   "id": "f865848c",
   "metadata": {},
   "outputs": [
    {
     "data": {
      "text/plain": [
       "((115, 3), (66, 3), (48, 3))"
      ]
     },
     "execution_count": 7,
     "metadata": {},
     "output_type": "execute_result"
    }
   ],
   "source": [
    "# Splitting the data into train and test sets\n",
    "\n",
    "cpi_train = (cpi[cpi.YearMonth < '2013-09'].copy()) \n",
    "\n",
    "cpi_test = (cpi[cpi.YearMonth >= '2013-09'].copy()) \n",
    "\n",
    "cpi.shape, cpi_train.shape, cpi_test.shape"
   ]
  },
  {
   "cell_type": "code",
   "execution_count": 8,
   "id": "6687ad22",
   "metadata": {},
   "outputs": [
    {
     "data": {
      "image/png": "[encoded data removed]",
      "text/plain": [
       "<Figure size 432x288 with 1 Axes>"
      ]
     },
     "metadata": {
      "needs_background": "light"
     },
     "output_type": "display_data"
    }
   ],
   "source": [
    "# Let's visualize the time series for training dataset\n",
    "\n",
    "plt.plot(cpi_train.index, cpi_train.CPI, color = 'navy')\n",
    "\n",
    "plt.xlabel('t')\n",
    "\n",
    "plt.ylabel('CPI')\n",
    "\n",
    "plt.title('CPI Monthly')\n",
    "\n",
    "plt.show()"
   ]
  },
  {
   "cell_type": "markdown",
   "id": "d4a93a54",
   "metadata": {},
   "source": [
    "**From the visualization above, it is clear that the time series has a deterministic trend. We will try and fit a linear model to the data and see if that is sufficient to represent the trend. We then subtract this trend from the data.**"
   ]
  },
  {
   "cell_type": "code",
   "execution_count": 9,
   "id": "8763f739",
   "metadata": {},
   "outputs": [
    {
     "name": "stdout",
     "output_type": "stream",
     "text": [
      "The linear trend is given by F(t) = 0.16009489280868378*t + (96.74978204432384)\n"
     ]
    },
    {
     "data": {
      "image/png": "[encoded data removed]",
      "text/plain": [
       "<Figure size 432x288 with 1 Axes>"
      ]
     },
     "metadata": {
      "needs_background": "light"
     },
     "output_type": "display_data"
    }
   ],
   "source": [
    "# fitting a linear model on the training data.\n",
    "\n",
    "from sklearn.linear_model import LinearRegression\n",
    "\n",
    "model = LinearRegression().fit(np.array(cpi_train.index).reshape(-1, 1), cpi_train.CPI) \n",
    "\n",
    "coefficients = [model.coef_[0], model.intercept_] \n",
    "\n",
    "print(\"The linear trend is given by F(t) = \" +str(coefficients[0]) + \"*t + (\" +str (coefficients[1]) + \")\") \n",
    "\n",
    "linear_cpi = model.predict(np.array(cpi_train.index).reshape(-1, 1)) \n",
    "\n",
    "plt.plot(cpi_train.index, cpi_train.CPI, color = 'navy', label = 'Original Trend')\n",
    "\n",
    "plt.xlabel('t')\n",
    "\n",
    "plt.ylabel('CPI')\n",
    "\n",
    "plt.title('CPI Monthly Original vs Linear Trend')\n",
    "\n",
    "plt.plot(cpi_train.index, linear_cpi, color = 'orange', label = 'Linear Trend')\n",
    "\n",
    "plt.legend(loc = 'lower right')\n",
    "\n",
    "plt.show()"
   ]
  },
  {
   "cell_type": "code",
   "execution_count": null,
   "id": "0ff20a09",
   "metadata": {},
   "outputs": [],
   "source": [
    "# Input method for detrended the data. Type 'linear' if we want to detrend by substracting the linear model\n",
    "\n",
    "x = input('Choose Method:')"
   ]
  },
  {
   "cell_type": "code",
   "execution_count": null,
   "id": "6e63fe99",
   "metadata": {},
   "outputs": [],
   "source": [
    "if x == 'linear': \n",
    "    \n",
    "    remaining = cpi_train.CPI - linear_cpi \n",
    "\n",
    "    linear_cpi_test = model.predict(np.array(cpi_test.index).reshape(-1, 1))  \n",
    "\n",
    "    remaining_test = cpi_test.CPI - linear_cpi_test \n",
    "\n",
    "    test = cpi_test.index \n",
    "\n",
    "    train = cpi_train.index\n",
    "\n",
    "else: \n",
    "    cpi_diff = np.log(cpi.CPI).diff() \n",
    "\n",
    "    remaining = cpi_diff[0 : cpi_train.shape[0]] \n",
    "\n",
    "    remaining.iloc[0] = 0  \n",
    "\n",
    "    remaining_test = cpi_diff[cpi_train.shape[0]:].dropna() \n",
    "\n",
    "    remaining_test.iloc[0] = 0 \n",
    "\n",
    "    test = cpi_test.index \n",
    "\n",
    "    train = cpi_train.index \n",
    "\n",
    "plt.plot(train, remaining, color = \"navy\", label = 'Detrended Data') \n",
    "\n",
    "plt.title('CPI time series', loc = 'left')\n",
    "\n",
    "plt.legend(loc = 'upper right')\n",
    "\n",
    "plt.show()"
   ]
  },
  {
   "cell_type": "markdown",
   "id": "44965e6b",
   "metadata": {},
   "source": [
    "**Observation:**\n",
    "\n",
    "- As observed above, there seems to be no other trend present in the residual after subtracting the linear model, as the time series has a horizontal orientation on xy-plane. \n",
    "- The time series has been detrended"
   ]
  },
  {
   "cell_type": "code",
   "execution_count": null,
   "id": "3c52c1d4",
   "metadata": {},
   "outputs": [],
   "source": [
    "# Note, we will be required to add the trend back later to get forcast result.\n",
    "\n",
    "# function to add the trend back\n",
    "\n",
    "def rebuild_diffed(series, first_element_original, x, linear_trend):  \n",
    "    if x == 'linear': \n",
    "        final = series + linear_trend \n",
    "    \n",
    "    else: \n",
    "        cumsum = pd.Series(series).cumsum() \n",
    "\n",
    "        final = np.exp(cumsum.fillna(0) + first_element_original)\n",
    "    \n",
    "        if first_element_original == 0: \n",
    "            final = np.exp(cumsum.fillna(0)) \n",
    "    \n",
    "    return final\n"
   ]
  },
  {
   "cell_type": "markdown",
   "id": "f81f97e8",
   "metadata": {},
   "source": [
    "**Deseasonalize Data**\n",
    "\n",
    "- After detrending time series, next step should be to deseasonalize the data. However, since there is no clear seasonality in the detrended time series, we directly proceed to fit an AR Model on the residual."
   ]
  },
  {
   "cell_type": "code",
   "execution_count": null,
   "id": "171268aa",
   "metadata": {},
   "outputs": [],
   "source": [
    "# We first plot the autocorrelation and partial autocorrelation plots.\n",
    "\n",
    "from statsmodels.graphics.tsaplots import plot_acf, plot_pacf\n",
    "\n",
    "plot_acf(remaining) \n",
    "\n",
    "plt.show() \n",
    "\n",
    "plot_pacf(remaining)\n",
    "\n",
    "plt.show()"
   ]
  },
  {
   "cell_type": "markdown",
   "id": "8a0b91c2",
   "metadata": {},
   "source": [
    "**Observation:**\n",
    "\n",
    "- From the above PACF plot, we can see that the highest lag at which the plot extends beyond the statistically significant boundary is at lag 2. This indicates that an AR Model of lag 2 should be sufficient to fit the data. "
   ]
  },
  {
   "cell_type": "code",
   "execution_count": null,
   "id": "2581bc39",
   "metadata": {},
   "outputs": [],
   "source": [
    "# Verifying rmse of our AR model at different lags\n",
    "\n",
    "from statsmodels.tsa.ar_model import AutoReg\n",
    "from sklearn.metrics import mean_squared_error\n",
    "\n",
    "\n",
    "rmse_ar = []\n",
    "\n",
    "for n in range(1, 6):\n",
    "    model = AutoReg(remaining, lags = n)\n",
    "    \n",
    "    model_fit = model.fit()\n",
    "    \n",
    "    coef = model_fit.params\n",
    "    \n",
    "    past = remaining[len(remaining) - n:].values\n",
    "    \n",
    "    past = [past[i] for i in range(len(past))]\n",
    "    \n",
    "    test_predictions = list()\n",
    "    \n",
    "    for t in range(len(remaining_test)): \n",
    "        length = len(past)\n",
    "        \n",
    "        lag = [past[i] for i in range(length - n, length)]\n",
    "        \n",
    "        pred = coef[0]\n",
    "        \n",
    "        for d in range(n):\n",
    "            \n",
    "            pred += coef[d+1] * lag[n - d - 1]\n",
    "            \n",
    "        obs = remaining_test.values[t]\n",
    "        \n",
    "        test_predictions.append(pred)\n",
    "        \n",
    "        past.append(obs)\n",
    "        \n",
    "    rmse = (mean_squared_error(remaining_test, test_predictions)) ** 0.5\n",
    "    \n",
    "    rmse_ar.append(rmse)\n",
    "    \n",
    "    print('Test RMSE for AR(' + str(n) +'):' + str(rmse))\n",
    "\n",
    "plt.scatter(np.arange(1,6), rmse_ar,marker = \"s\", color = 'red')\n",
    "\n",
    "plt.xlabel(\"n\")\n",
    "\n",
    "plt.ylabel(\"RMSE\")\n",
    "\n",
    "plt.title(\"RMSE of AR Models of order n\")\n",
    "\n",
    "plt.show()"
   ]
  },
  {
   "cell_type": "markdown",
   "id": "9e33d7bb",
   "metadata": {},
   "source": [
    "**Observation:**\n",
    "\n",
    "- The plot above seems to indicate the AR(1) model predictions have the least rmse but we will work with the AR model order of 2 so we do not miss out on possible lag terms."
   ]
  },
  {
   "cell_type": "code",
   "execution_count": null,
   "id": "d164b925",
   "metadata": {},
   "outputs": [],
   "source": [
    "## Building the AR(2) Model\n",
    "n = 2\n",
    "\n",
    "AR2_model = AutoReg(remaining, lags = n).fit()\n",
    "\n",
    "coef = AR2_model.params\n",
    "\n",
    "# Walk forward over time steps in test\n",
    "past = remaining[len(remaining)-n:].values\n",
    "\n",
    "past = [past[i] for i in range(len(past))]\n",
    "\n",
    "test_predictions = list()\n",
    "\n",
    "training_predictions = AR2_model.predict(start = train[0], end = train[-1])\n",
    "\n",
    "for t in range(len(remaining_test)):\n",
    "    length = len(past)\n",
    "    \n",
    "    lag = [past[i] for i in range(length - n , length)]\n",
    "    \n",
    "    pred = coef[0]\n",
    "    \n",
    "    for d in range(n):\n",
    "        pred += coef[d+1] * lag[n-d-1]\n",
    "        \n",
    "    obs = remaining_test.values[t]\n",
    "    \n",
    "    test_predictions.append(pred)\n",
    "    \n",
    "    past.append(obs)\n",
    "    \n",
    "final_training = (rebuild_diffed(training_predictions, np.log(cpi_train.CPI[0]), x, linear_cpi))\n",
    "\n",
    "final_test = (rebuild_diffed(test_predictions, np.log(cpi_train.iloc[-1].CPI), x, linear_cpi_test))"
   ]
  },
  {
   "cell_type": "code",
   "execution_count": null,
   "id": "d54bd45b",
   "metadata": {},
   "outputs": [],
   "source": [
    "# plotting the final model predictions and the actual observed data together to visualize the fit.\n",
    "\n",
    "plt.plot(cpi_train.index, cpi_train.CPI, color = 'black', linestyle = 'dashed', label = 'Training')\n",
    "\n",
    "plt.plot(cpi_test.index, cpi_test.CPI, color = 'green', linestyle = 'dashed', label = 'Test')\n",
    "\n",
    "plt.plot(cpi_train.index, final_training, color = 'red', label = 'Final AF')\n",
    "\n",
    "plt.plot(cpi_test.index, final_test, color = 'yellow', label = 'Final AF')\n",
    "\n",
    "plt.title(\"CPI predictions\")"
   ]
  },
  {
   "cell_type": "markdown",
   "id": "997906c7",
   "metadata": {},
   "source": [
    "**Observation:**\n",
    "\n",
    "- The AR(2) Model does predict pretty well as we can see the original and predicted data are very close. "
   ]
  },
  {
   "cell_type": "code",
   "execution_count": null,
   "id": "788f4a39",
   "metadata": {},
   "outputs": [],
   "source": [
    "# Evaluating the error on the model\n",
    "\n",
    "rmse = mean_squared_error(cpi_test.CPI,final_test) ** 0.5\n",
    "print(\"The rmse of the final fit is \" + str(rmse))"
   ]
  },
  {
   "cell_type": "markdown",
   "id": "21498771",
   "metadata": {},
   "source": [
    "**Observation:**\n",
    "\n",
    "- The root mean squared prediction error is small."
   ]
  },
  {
   "cell_type": "code",
   "execution_count": null,
   "id": "719b7df3",
   "metadata": {},
   "outputs": [],
   "source": []
  }
 ],
 "metadata": {
  "kernelspec": {
   "display_name": "Python 3 (ipykernel)",
   "language": "python",
   "name": "python3"
  },
  "language_info": {
   "codemirror_mode": {
    "name": "ipython",
    "version": 3
   },
   "file_extension": ".py",
   "mimetype": "text/x-python",
   "name": "python",
   "nbconvert_exporter": "python",
   "pygments_lexer": "ipython3",
   "version": "3.9.12"
  }
 },
 "nbformat": 4,
 "nbformat_minor": 5
}
